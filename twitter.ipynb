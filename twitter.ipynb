{
 "cells": [
  {
   "cell_type": "code",
   "execution_count": null,
   "metadata": {
    "scrolled": false
   },
   "outputs": [],
   "source": [
    "import tweepy\n",
    "import numpy as np \n",
    "from textblob import TextBlob\n",
    "from vaderSentiment.vaderSentiment import SentimentIntensityAnalyzer\n",
    "import time \n",
    "from googletrans import Translator\n",
    "\n",
    "text = \"you're not so smart\"\n",
    "# text = \"Great new book just out by the Former Director of Ice, Tom Homan: “Defend the Border and Save Lives: Solving Our Most Important Humanitarian and Security Crisis.” Great guy, get your copy today!\"\n",
    "\n",
    "blob = TextBlob(text)\n",
    "\n",
    "for sentence in blob.sentences:\n",
    "    print(sentence.sentiment.polarity)\n",
    "\n",
    "analyser = SentimentIntensityAnalyzer()\n",
    "score = analyser.polarity_scores(text)['compound']\n",
    "print(score)\n",
    "\n",
    "    "
   ]
  },
  {
   "cell_type": "code",
   "execution_count": null,
   "metadata": {},
   "outputs": [],
   "source": [
    "\n",
    "translator = Translator()\n",
    "translator.translate('hola, todo bien? vamos! pendeho').text"
   ]
  },
  {
   "cell_type": "code",
   "execution_count": null,
   "metadata": {},
   "outputs": [],
   "source": [
    "def get_sentiment(text):\n",
    "    trans = translator.translate(text).text \n",
    "    score = analyser.polarity_scores(trans)\n",
    "    return score['compound']\n",
    "\n",
    "text = \"dia orang bodoh.\"\n",
    "print(get_sentiment(text))\n",
    "\n",
    "text = \"he's a dumb kid\"\n",
    "print(get_sentiment(text))\n",
    "\n",
    "text = \"eres una perra\"\n",
    "print(get_sentiment(text))\n"
   ]
  },
  {
   "cell_type": "code",
   "execution_count": null,
   "metadata": {},
   "outputs": [],
   "source": [
    "consumer_key = \"ew0pmbxpjcfgMTSZcywA0Fgb7\"\n",
    "consumer_secret = \"fO0t6AmR2RvOoAV6aSnVzheDyzCDZz2GJmSWCDsIfjQUXk45fD\"\n",
    "access_token = \"1251440497257672705-datdho4HgxFZoj4AkA8c9cmi0skf8b\"\n",
    "access_token_secret = \"Gw9RnSjfeMzc4P415gbv494VO33fIPU5uGMCXg8qINLl1\"\n",
    "\n",
    "auth = tweepy.OAuthHandler(consumer_key, consumer_secret)\n",
    "auth.set_access_token(access_token, access_token_secret)\n",
    "api = tweepy.API(auth,wait_on_rate_limit=True)\n"
   ]
  },
  {
   "cell_type": "code",
   "execution_count": null,
   "metadata": {},
   "outputs": [],
   "source": [
    "def list_tweets(user_id, count):\n",
    "    tweets = api.user_timeline(\"@\" + user_id, count=count, tweet_mode='extended')\n",
    "    \n",
    "    for t in tweets:\n",
    "        print(t.full_text)\n",
    "        try:\n",
    "            fav = t.retweeted_status.favorite_count\n",
    "        except:\n",
    "            fav = t.favorite_count\n",
    "        ret = t.retweet_count\n",
    "    \n",
    "        print(fav, ret)\n",
    "        \n",
    "    return tweets"
   ]
  },
  {
   "cell_type": "code",
   "execution_count": null,
   "metadata": {
    "scrolled": false
   },
   "outputs": [],
   "source": [
    "count = 5\n",
    "\n",
    "user_id = 'realDonaldTrump' \n",
    "tw_trump = list_tweets(user_id, count)\n",
    "\n"
   ]
  },
  {
   "cell_type": "code",
   "execution_count": null,
   "metadata": {},
   "outputs": [],
   "source": [
    "print(tw_trump[0].full_text)"
   ]
  },
  {
   "cell_type": "code",
   "execution_count": null,
   "metadata": {},
   "outputs": [],
   "source": [
    "\n",
    "def check_replies(t):\n",
    "    replies = tweepy.Cursor(api.search, q='to:{}'.format(user_id),\n",
    "                                    since_id=t.id, tweet_mode='extended').items()\n",
    "    sentiment = 0\n",
    "    while True:\n",
    "        try:\n",
    "            reply = replies.next()\n",
    "            sentiment += get_sentiment(reply.full_text)\n",
    "            \n",
    "        except StopIteration:\n",
    "            break\n",
    "\n",
    "        time.sleep(0.03)\n",
    "    return sentiment\n",
    "\n",
    "\n"
   ]
  },
  {
   "cell_type": "code",
   "execution_count": null,
   "metadata": {},
   "outputs": [],
   "source": [
    "class MyStreamListener(tweepy.StreamListener):\n",
    "    sentiment_score = 0\n",
    "    \n",
    "    def on_status(self, status):\n",
    "        print(status.text)\n",
    "        try:\n",
    "            val = get_sentiment(status.text)\n",
    "            self.sentiment_score +=  val\n",
    "        except:\n",
    "            return\n",
    "        print(self.sentiment_score, end='\\r', flush=True)\n",
    "        \n",
    "trumpStreamListener = MyStreamListener()\n",
    "trumpStream = tweepy.Stream(auth = api.auth, listener=trumpStreamListener)\n",
    "trumpStream.filter(track=['trump'], is_async=False)\n"
   ]
  },
  {
   "cell_type": "code",
   "execution_count": null,
   "metadata": {},
   "outputs": [],
   "source": [
    "bidenStreamListener = MyStreamListener()\n",
    "bidenStream = tweepy.Stream(auth = api.auth, listener=bidenStreamListener)\n",
    "bidenStream.filter(track=['biden'], is_async=False)"
   ]
  },
  {
   "cell_type": "code",
   "execution_count": null,
   "metadata": {},
   "outputs": [],
   "source": []
  }
 ],
 "metadata": {
  "kernelspec": {
   "display_name": "Python 3",
   "language": "python",
   "name": "python3"
  },
  "language_info": {
   "codemirror_mode": {
    "name": "ipython",
    "version": 3
   },
   "file_extension": ".py",
   "mimetype": "text/x-python",
   "name": "python",
   "nbconvert_exporter": "python",
   "pygments_lexer": "ipython3",
   "version": "3.5.2"
  }
 },
 "nbformat": 4,
 "nbformat_minor": 4
}
